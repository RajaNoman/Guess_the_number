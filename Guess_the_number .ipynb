{
 "cells": [
  {
   "cell_type": "code",
   "execution_count": null,
   "id": "2a905875",
   "metadata": {},
   "outputs": [
    {
     "name": "stdout",
     "output_type": "stream",
     "text": [
      "guess of no is only 9\n"
     ]
    }
   ],
   "source": [
    "# noman ali\n",
    "number = 18\n",
    "no_of_gusses = 1\n",
    "print(\"guess of no is only 9\")\n",
    "while(no_of_gusses<=9):\n",
    "    guess_no = int(input(\"guess_no\\n\"))\n",
    "    if guess_no > 18:\n",
    "        print(\"you inter greater no enter less no\\n\")\n",
    "    elif guess_no<18:\n",
    "            print(\"you enter less no enter greater no\\n\" )\n",
    "    else:\n",
    "        print(\"you win\\n\")\n",
    "        print(no_of_gusses,\"no of guess is\")\n",
    "        break\n",
    "    print(9-no_of_gusses,\"no of guesses left\")\n",
    "    no_of_gusses = no_of_gusses + 1\n",
    "    \n",
    "    if no_of_gusses>9:\n",
    "        print(\"game over\")\n",
    "\n"
   ]
  },
  {
   "cell_type": "code",
   "execution_count": null,
   "id": "1cbbfa52",
   "metadata": {},
   "outputs": [],
   "source": []
  }
 ],
 "metadata": {
  "kernelspec": {
   "display_name": "Python 3 (ipykernel)",
   "language": "python",
   "name": "python3"
  },
  "language_info": {
   "codemirror_mode": {
    "name": "ipython",
    "version": 3
   },
   "file_extension": ".py",
   "mimetype": "text/x-python",
   "name": "python",
   "nbconvert_exporter": "python",
   "pygments_lexer": "ipython3",
   "version": "3.9.12"
  }
 },
 "nbformat": 4,
 "nbformat_minor": 5
}
